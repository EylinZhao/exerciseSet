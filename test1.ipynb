{
 "cells": [
  {
   "cell_type": "code",
   "execution_count": 2,
   "metadata": {},
   "outputs": [],
   "source": [
    "import math \n",
    "def stepCount(x,y):\n",
    "    return math.floor(abs(x))+math.floor(abs(y))"
   ]
  },
  {
   "cell_type": "code",
   "execution_count": 18,
   "metadata": {},
   "outputs": [
    {
     "data": {
      "text/plain": [
       "44"
      ]
     },
     "execution_count": 18,
     "metadata": {},
     "output_type": "execute_result"
    }
   ],
   "source": [
    "stepCount(-33,11)"
   ]
  },
  {
   "cell_type": "code",
   "execution_count": 70,
   "metadata": {},
   "outputs": [],
   "source": [
    "def location(n):\n",
    "    if n<=1:\n",
    "        return '请输入正整数！'\n",
    "    if n==1:\n",
    "        return 0\n",
    "    c=(int)(math.ceil(math.sqrt(n))/2)#该数值在第几个方框上，从0算起\n",
    "    print('c=',c)\n",
    "    c_d_count=2*c+1#the count in single direction in c rectangle\n",
    "    print('c_d_count=',c_d_count)\n",
    "    c_count=8*c#c>0 \n",
    "    print('c_count=',c_count)\n",
    "    c0=(2*c-1)*(2*c-1)+2*c#(c,c)\n",
    "    c1=(2*c-1)*(2*c-1)+4*c#(-c,c)\n",
    "    c2=(2*c-1)*(2*c-1)+6*c#(-c,-c)\n",
    "    c3=(2*c+1)*(2*c+1)#(c,-c)\n",
    "    print(' c0=',c0,' c1=',c1,' c2=',c2,' c3=',c3)\n",
    "    d=math.floor((n-(2*c-1)*(2*c-1)-1)/(2*c))\n",
    "    print('d=',d)\n",
    "    if d==0:\n",
    "        x=c\n",
    "        y=c-((2*c-1)*(2*c-1)+2*c-n)\n",
    "    elif d==1:\n",
    "        x=c-(n-(2*c-1)*(2*c-1)-2*c)\n",
    "        y=c\n",
    "    elif d==2:\n",
    "        x=-c\n",
    "        y=c-(n-(2*c-1)*(2*c-1)-4*c)\n",
    "    elif d==3:\n",
    "        x=c-((2*c+1)*(2*c+1)-n)\n",
    "        y=-c    \n",
    "    print('location:(',x,',',y,')')\n",
    "    return math.floor(abs(x))+math.floor(abs(y))"
   ]
  },
  {
   "cell_type": "code",
   "execution_count": 35,
   "metadata": {},
   "outputs": [
    {
     "data": {
      "text/plain": [
       "0"
      ]
     },
     "execution_count": 35,
     "metadata": {},
     "output_type": "execute_result"
    }
   ],
   "source": [
    "n=1\n",
    "c=(int)(math.ceil(math.sqrt(n))/2)\n",
    "c"
   ]
  },
  {
   "cell_type": "code",
   "execution_count": 34,
   "metadata": {},
   "outputs": [
    {
     "name": "stdout",
     "output_type": "stream",
     "text": [
      "0\n",
      "1\n"
     ]
    }
   ],
   "source": [
    "c=(int)(math.ceil(math.sqrt(1))/2)\n",
    "c_count=2*c+1\n",
    "print(c)\n",
    "print(c_count)"
   ]
  },
  {
   "cell_type": "code",
   "execution_count": 73,
   "metadata": {},
   "outputs": [
    {
     "name": "stdout",
     "output_type": "stream",
     "text": [
      "c= 2\n",
      "c_d_count= 5\n",
      "c_count= 16\n",
      " c0= 13  c1= 17  c2= 21  c3= 25\n",
      "d= 0\n",
      "location:( 2 , 1 )\n"
     ]
    },
    {
     "data": {
      "text/plain": [
       "3"
      ]
     },
     "execution_count": 73,
     "metadata": {},
     "output_type": "execute_result"
    }
   ],
   "source": [
    "location(12)\n"
   ]
  }
 ],
 "metadata": {
  "kernelspec": {
   "display_name": "Python 3",
   "language": "python",
   "name": "python3"
  },
  "language_info": {
   "codemirror_mode": {
    "name": "ipython",
    "version": 3
   },
   "file_extension": ".py",
   "mimetype": "text/x-python",
   "name": "python",
   "nbconvert_exporter": "python",
   "pygments_lexer": "ipython3",
   "version": "3.7.0"
  }
 },
 "nbformat": 4,
 "nbformat_minor": 2
}
