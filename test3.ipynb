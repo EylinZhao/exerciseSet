{
 "cells": [
  {
   "cell_type": "code",
   "execution_count": 27,
   "metadata": {},
   "outputs": [],
   "source": [
    "class simple_grammar:\n",
    "    def __init__(self,\n",
    "                 article=('一个', '这个'),\n",
    "                 noun=('女人', '篮球', '桌子', '小猫'),\n",
    "                 verb=('看着', '听着', '看见'),\n",
    "                 adj=('蓝色的', '好看的', '小小的', '年轻的')):\n",
    "        self.Article = article\n",
    "        self.noun = noun\n",
    "        self.verb = verb\n",
    "        self.Adj = adj\n",
    "\n",
    "    def generate(self, ipt='sentence'):\n",
    "        if ipt == 'noun_phrase':\n",
    "            Adjcount = random.randint(0, len(self.Adj))\n",
    "            if Adjcount == 0:\n",
    "                return choice(self.Article) + choice(self.noun)\n",
    "            else:\n",
    "                return choice(self.Article) + ''.join(str(i) for i in sample(self.Adj, Adjcount)) +  choice(self.noun)\n",
    "        elif ipt == 'verb_phrase':\n",
    "            return choice(self.verb) +  self.generate('noun_phrase')\n",
    "        elif ipt == 'sentence':\n",
    "            return self.generate('noun_phrase') + self.generate('verb_phrase')\n",
    "        else:\n",
    "            return ''"
   ]
  },
  {
   "cell_type": "code",
   "execution_count": 29,
   "metadata": {},
   "outputs": [
    {
     "name": "stdout",
     "output_type": "stream",
     "text": [
      "这个蓝色的好看的年轻的小猫看见一个小猫\n"
     ]
    }
   ],
   "source": [
    "sg=simple_grammar()\n",
    "print(sg.generate('sentence'))"
   ]
  },
  {
   "cell_type": "code",
   "execution_count": null,
   "metadata": {},
   "outputs": [],
   "source": []
  }
 ],
 "metadata": {
  "kernelspec": {
   "display_name": "Python 3",
   "language": "python",
   "name": "python3"
  },
  "language_info": {
   "codemirror_mode": {
    "name": "ipython",
    "version": 3
   },
   "file_extension": ".py",
   "mimetype": "text/x-python",
   "name": "python",
   "nbconvert_exporter": "python",
   "pygments_lexer": "ipython3",
   "version": "3.7.0"
  }
 },
 "nbformat": 4,
 "nbformat_minor": 2
}
